{
 "cells": [
  {
   "cell_type": "code",
   "execution_count": 36,
   "metadata": {},
   "outputs": [],
   "source": [
    "import random\n",
    "import numpy as np\n",
    "import matplotlib.pyplot as plt\n",
    "from IPython.display import clear_output"
   ]
  },
  {
   "cell_type": "code",
   "execution_count": 37,
   "metadata": {},
   "outputs": [],
   "source": [
    "PI = 3.1415926\n",
    "e = 2.71828\n",
    "\n",
    "lower_bound = 0.0\n",
    "upper_bound = 5.0"
   ]
  },
  {
   "cell_type": "markdown",
   "metadata": {},
   "source": [
    "### Crude Monte Carlo \n",
    "in this section, I used Crude MC to estimte the integral of below function in the range between 0.0 and 5.0 (over d_x)"
   ]
  },
  {
   "cell_type": "code",
   "execution_count": 38,
   "metadata": {},
   "outputs": [],
   "source": [
    "def f_of_x(x):\n",
    "    return np.divide(np.exp(-x), (1+np.power(x-1, 2)))"
   ]
  },
  {
   "cell_type": "code",
   "execution_count": 39,
   "metadata": {},
   "outputs": [],
   "source": [
    "def crude_monte_carlo(num_samples):\n",
    "    \n",
    "    sum_samples = 0\n",
    "    \n",
    "    for _ in range(num_samples):\n",
    "        x = np.random.uniform(lower_bound, upper_bound, 1)\n",
    "        sum_samples += f_of_x(x)\n",
    "    \n",
    "    return (upper_bound - lower_bound) * (sum_samples/num_samples)\n"
   ]
  },
  {
   "cell_type": "code",
   "execution_count": 40,
   "metadata": {},
   "outputs": [
    {
     "data": {
      "text/plain": [
       "array([0.67690952])"
      ]
     },
     "execution_count": 40,
     "metadata": {},
     "output_type": "execute_result"
    }
   ],
   "source": [
    "crude_monte_carlo(num_samples=10000)"
   ]
  },
  {
   "cell_type": "code",
   "execution_count": 41,
   "metadata": {},
   "outputs": [],
   "source": [
    "def compute_variance_of_crude_MC(num_samples):\n",
    "    \"\"\"\n",
    "        compute ((b-a)/N)(sum_{i=1, N}(f^2(x))) - (b-a/N(sum_{j=1, N}(f(x))))^2\n",
    "    \"\"\"\n",
    "    total_running = 0\n",
    "    for _ in range(num_samples):\n",
    "        x = np.random.uniform(lower_bound, upper_bound, 1)\n",
    "        total_running += f_of_x(x)**2\n",
    "    sum_of_sqrs = (upper_bound-lower_bound)*(total_running/num_samples)\n",
    "    \n",
    "    total_running = 0\n",
    "    for _ in range(num_samples):\n",
    "        x = np.random.uniform(lower_bound, upper_bound, 1)\n",
    "        total_running +=  f_of_x(x)\n",
    "        \n",
    "    sqr_of_sum = ((upper_bound-lower_bound)*total_running/num_samples)**2\n",
    "    \n",
    "    return sum_of_sqrs - sqr_of_sum"
   ]
  },
  {
   "cell_type": "code",
   "execution_count": 42,
   "metadata": {},
   "outputs": [
    {
     "data": {
      "text/plain": [
       "array([-0.22656195])"
      ]
     },
     "execution_count": 42,
     "metadata": {},
     "output_type": "execute_result"
    }
   ],
   "source": [
    "compute_variance_of_crude_MC(num_samples=10000)"
   ]
  },
  {
   "cell_type": "markdown",
   "metadata": {},
   "source": [
    "### Importance Sampling\n",
    "\n",
    "Importance sampling is a method for reducing the variance of a Monte Carlo simulation without increasing the number of samples. The idea is that instead of randomly sampling from the whole function, let’s just sample from a distribution of points similarly shaped to the function."
   ]
  },
  {
   "cell_type": "markdown",
   "metadata": {},
   "source": [
    "##### visualization of f(x)"
   ]
  },
  {
   "cell_type": "code",
   "execution_count": 43,
   "metadata": {},
   "outputs": [
    {
     "data": {
      "image/png": "[encoded data removed]",
      "text/plain": [
       "<Figure size 432x288 with 1 Axes>"
      ]
     },
     "metadata": {
      "needs_background": "light"
     },
     "output_type": "display_data"
    }
   ],
   "source": [
    "xs = [float(i/50) for i in range(int(50*PI**2))]\n",
    "y = [f_of_x(x) for x in xs]\n",
    "\n",
    "plt.plot(xs, y)\n",
    "plt.title(\"f(x)\")\n",
    "plt.show()"
   ]
  },
  {
   "cell_type": "code",
   "execution_count": 44,
   "metadata": {},
   "outputs": [],
   "source": [
    "def g_of_x(x, A, lamda):\n",
    "    return A * np.power(e, -lamda*x)"
   ]
  },
  {
   "cell_type": "code",
   "execution_count": 52,
   "metadata": {},
   "outputs": [],
   "source": [
    "def inverse_of_G_of_r(r, lamda):\n",
    "    return -np.log(float(r))/lamda"
   ]
  },
  {
   "cell_type": "code",
   "execution_count": 46,
   "metadata": {},
   "outputs": [],
   "source": [
    "def compute_variance_of_importance_sampling(lamda, num_samples):\n",
    "    \n",
    "    A = lamda\n",
    "    \n",
    "    running_total = 0\n",
    "    for _ in range(num_samples):\n",
    "        x = np.random.uniform(lower_bound, upper_bound, 1)\n",
    "        running_total += (f_of_x(x)**2)/(g_of_x(x, A, lamda))**2\n",
    "    sum_of_sqrs = running_total/num_samples\n",
    "    \n",
    "    running_total = 0\n",
    "    for _ in range(num_samples):\n",
    "        x = np.random.uniform(lower_bound, upper_bound, 1)\n",
    "        running_total += f_of_x(x)/g_of_x(x, A, lamda)\n",
    "    \n",
    "    sqr_of_sums = (running_total/num_samples)**2\n",
    "    \n",
    "    return sum_of_sqrs - sqr_of_sums\n",
    "\n"
   ]
  },
  {
   "cell_type": "code",
   "execution_count": 49,
   "metadata": {},
   "outputs": [
    {
     "name": "stdout",
     "output_type": "stream",
     "text": [
      "lambda 60/60: 3.0\n"
     ]
    }
   ],
   "source": [
    "test_lamdas = [i*0.05 for i in range(1, 61)]\n",
    "variances = []\n",
    "\n",
    "for i, lamda in enumerate(test_lamdas):\n",
    "    print(f\"lambda {i+1}/{len(test_lamdas)}: {lamda}\")\n",
    "    A = lamda\n",
    "    variances.append(compute_variance_of_importance_sampling(lamda, 10000))\n",
    "    clear_output(wait=True)\n",
    "    \n"
   ]
  },
  {
   "cell_type": "code",
   "execution_count": 50,
   "metadata": {},
   "outputs": [
    {
     "name": "stdout",
     "output_type": "stream",
     "text": [
      "Optimal Lambda: 1.6500000000000001\n",
      "Optimal Variance: [0.04761334]\n",
      "Error: [0.00218205]\n"
     ]
    }
   ],
   "source": [
    "optimal_lamda = test_lamdas[np.argmin(np.asarray(variances))]\n",
    "IS_variance = variances[np.argmin(np.asarray(variances))]\n",
    "\n",
    "print(f\"Optimal Lambda: {optimal_lamda}\")\n",
    "print(f\"Optimal Variance: {IS_variance}\")\n",
    "print(f\"Error: {(IS_variance/10000)**0.5}\")"
   ]
  },
  {
   "cell_type": "code",
   "execution_count": 56,
   "metadata": {},
   "outputs": [
    {
     "name": "stdout",
     "output_type": "stream",
     "text": [
      "Importance Sampling Approximation: 0.2404878408624847\n",
      "Variance: [0.04882878]\n",
      "Error: [0.00220972]\n"
     ]
    }
   ],
   "source": [
    "def importance_sampling_MC(lamda, num_samples):\n",
    "    A = lamda\n",
    "    \n",
    "    running_total = 0\n",
    "    for _ in range(num_samples):\n",
    "        r = np.random.uniform(lower_bound, upper_bound, 1)\n",
    "        running_total += f_of_x(inverse_of_G_of_r(r, lamda))/g_of_x(inverse_of_G_of_r(r, lamda), A, lamda)\n",
    "    approximation = float(running_total/num_samples)\n",
    "    return approximation\n",
    "\n",
    "# run simulation\n",
    "num_samples = 10000\n",
    "approx = importance_sampling_MC(optimal_lamda, num_samples)\n",
    "variance = compute_variance_of_importance_sampling(optimal_lamda, num_samples)\n",
    "error = (variance/num_samples)**0.5\n",
    "\n",
    "# display results\n",
    "print(f\"Importance Sampling Approximation: {approx}\")\n",
    "print(f\"Variance: {variance}\")\n",
    "print(f\"Error: {error}\")"
   ]
  },
  {
   "cell_type": "markdown",
   "metadata": {},
   "source": [
    "Running this code gave me an approximation of 0.6983 which is much closer to the Wolfram-provided grand truth of 0.696."
   ]
  },
  {
   "cell_type": "code",
   "execution_count": null,
   "metadata": {},
   "outputs": [],
   "source": []
  }
 ],
 "metadata": {
  "kernelspec": {
   "display_name": "Python 3",
   "language": "python",
   "name": "python3"
  },
  "language_info": {
   "codemirror_mode": {
    "name": "ipython",
    "version": 3
   },
   "file_extension": ".py",
   "mimetype": "text/x-python",
   "name": "python",
   "nbconvert_exporter": "python",
   "pygments_lexer": "ipython3",
   "version": "3.7.3"
  }
 },
 "nbformat": 4,
 "nbformat_minor": 2
}
